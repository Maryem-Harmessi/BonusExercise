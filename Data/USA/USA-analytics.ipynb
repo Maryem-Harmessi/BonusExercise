{
 "cells": [
  {
   "cell_type": "code",
   "execution_count": 1,
   "id": "13252739",
   "metadata": {},
   "outputs": [],
   "source": [
    "import pandas as pd\n",
    "import matplotlib.pyplot as plt\n",
    "import seaborn as sns\n",
    "import numpy as np\n",
    "\n",
    "%matplotlib inline\n",
    "\n"
   ]
  },
  {
   "cell_type": "code",
   "execution_count": 2,
   "id": "6e55c588",
   "metadata": {},
   "outputs": [
    {
     "name": "stdout",
     "output_type": "stream",
     "text": [
      "35\n",
      "Mean = 5.9366666666666665\n",
      "Variance = 1.59582123015873\n",
      "Standard Deviation = 1.263258180325277\n",
      "Quartiles = {'Q1': 5.15, 'Q2': 5.5, 'Q3': 7.25}\n"
     ]
    }
   ],
   "source": [
    "import pandas as pd\n",
    "import importlib\n",
    "import sys\n",
    "sys.path.append('../../Functions')\n",
    "import calculations\n",
    "import statistics\n",
    "import plotting\n",
    "\n",
    "# Load your CSV file (replace with your actual filename)\n",
    "USminwage = pd.read_csv('MinWage-US-Monthly.csv')\n",
    "\n",
    "# Rename columns for clarity if needed — assumes first column is 'Date' and second is 'Minimum_Wage'\n",
    "USminwage.columns = ['Date', 'Minimum_Wage']\n",
    "\n",
    "# Convert the 'Date' column to datetime format\n",
    "USminwage['Date'] = pd.to_datetime(USminwage['Date'])\n",
    "\n",
    "# Extract the year from the date\n",
    "USminwage['Year'] = USminwage['Date'].dt.year\n",
    "\n",
    "# Group by year and calculate the average wage per year\n",
    "annual_avg_MinWage = USminwage.groupby('Year')['Minimum_Wage'].mean().reset_index()\n",
    "\n",
    "mean = calculations.arithmeticMean(annual_avg_MinWage.Minimum_Wage)\n",
    "variance = calculations.variance(annual_avg_MinWage.Minimum_Wage)\n",
    "standarddeviation = calculations.standardDeviation(annual_avg_MinWage.Minimum_Wage)\n",
    "quartiles = calculations.quartiles(annual_avg_MinWage.Minimum_Wage)\n",
    "\n",
    "#print(annual_avg)\n",
    "print(len(annual_avg_MinWage.Year))\n",
    "print(f\"Mean = {mean}\")\n",
    "print(f\"Variance = {variance}\")\n",
    "print(f\"Standard Deviation = {standarddeviation}\")\n",
    "print(f\"Quartiles = {quartiles}\")"
   ]
  },
  {
   "cell_type": "code",
   "execution_count": 3,
   "id": "0a71de10",
   "metadata": {},
   "outputs": [
    {
     "name": "stdout",
     "output_type": "stream",
     "text": [
      "35\n",
      "Mean = 5.9366666666666665, approx 5.94\n",
      "Variance = 39341526.3084331, approx 39341526.31\n",
      "Standard Deviation = 6272.282384302631, approx 6272.28\n",
      "Quartiles = {'Q1': 9062.81675, 'Q2': 14474.227, 'Q3': 18804.91325}\n"
     ]
    }
   ],
   "source": [
    "# Load your CSV file (replace with your actual filename)\n",
    "USGDP = pd.read_csv('GDP-US-QUARTLY.csv')\n",
    "\n",
    "# Rename columns for clarity if needed — assumes first column is 'Date' and second is 'Minimum_Wage'\n",
    "USGDP.columns = ['Date', 'GDP']\n",
    "\n",
    "# Convert the 'Date' column to datetime format\n",
    "USGDP['Date'] = pd.to_datetime(USGDP['Date'])\n",
    "\n",
    "# Extract the year from the date\n",
    "USGDP['Year'] = USGDP['Date'].dt.year\n",
    "\n",
    "# Group by year and calculate the average wage per year\n",
    "annual_avg_GDP = USGDP.groupby('Year')['GDP'].mean().reset_index()\n",
    "\n",
    "mean_USGDP = calculations.arithmeticMean(annual_avg_GDP.GDP)\n",
    "variance = calculations.variance(annual_avg_GDP.GDP)\n",
    "standarddeviation = calculations.standardDeviation(annual_avg_GDP.GDP)\n",
    "quartiles = calculations.quartiles(annual_avg_GDP.GDP)\n",
    "\n",
    "#print(annual_avg)\n",
    "print(len(annual_avg_GDP.Year))\n",
    "print(f\"Mean = {mean}, approx {round(mean, 2)}\")\n",
    "print(f\"Variance = {variance}, approx {round(variance,2)}\")\n",
    "print(f\"Standard Deviation = {standarddeviation}, approx {round(standarddeviation, 2)}\")\n",
    "print(f\"Quartiles = {quartiles}\")"
   ]
  },
  {
   "cell_type": "code",
   "execution_count": 4,
   "id": "2f8a3440",
   "metadata": {},
   "outputs": [
    {
     "name": "stdout",
     "output_type": "stream",
     "text": [
      "Using updated correlation function\n",
      "Covariance between GDP and Minimum wage = 6943.728684244047, 6943.73\n",
      "Correlation between GDP and Minimum wage = 0.8763448148790086, 0.88\n"
     ]
    }
   ],
   "source": [
    "covariance_US = calculations.covariance(annual_avg_GDP.GDP, annual_avg_MinWage.Minimum_Wage)\n",
    "correlation_US = calculations.correlation(annual_avg_GDP.GDP, annual_avg_MinWage.Minimum_Wage)\n",
    "print(f\"Covariance between GDP and Minimum wage = {covariance_US}, {round(covariance_US, 2)}\")\n",
    "print(f\"Correlation between GDP and Minimum wage = {correlation_US}, {round(correlation_US, 2)}\")\n",
    "\n"
   ]
  },
  {
   "cell_type": "code",
   "execution_count": 5,
   "id": "8a2efb54",
   "metadata": {},
   "outputs": [],
   "source": [
    "#print(\"USA Wage Data:\")\n",
    "#display(us_wage.head())\n",
    "\n",
    "#print(\"USA GDP Data:\")\n",
    "#display(us_gdp.head())"
   ]
  },
  {
   "cell_type": "code",
   "execution_count": 6,
   "id": "47f41e09",
   "metadata": {},
   "outputs": [],
   "source": [
    "# Display the annual average minimum wages\n",
    "\n",
    "\n",
    "# Optional: Save to new CSV\n",
    "#annual_avg.to_csv('annual_minimum_wage.csv', index=False)\n",
    "\n",
    "#USA data\n",
    "#monthly wage\n",
    "#us_wage = pd.read_csv(\"MinWage-US-Monthly.csv\")  \n",
    "#us_wage.columns = [\"date\", \"hourly-wage\"] \n",
    "# quarterly  GDP    \n",
    "#us_gdp = pd.read_csv(\"GDP-US-QUARTLY.csv\")  \n",
    "#us_gdp.columns = [\"date\", \"gdp_usd\"]    \n",
    "\n",
    "\n",
    "#us_wage[\"date\"] = pd.to_datetime(us_wage[\"date\"])\n",
    "#us_wage_ = us_wage.set_index(\"date\")"
   ]
  }
 ],
 "metadata": {
  "kernelspec": {
   "display_name": ".venv",
   "language": "python",
   "name": "python3"
  },
  "language_info": {
   "codemirror_mode": {
    "name": "ipython",
    "version": 3
   },
   "file_extension": ".py",
   "mimetype": "text/x-python",
   "name": "python",
   "nbconvert_exporter": "python",
   "pygments_lexer": "ipython3",
   "version": "3.13.3"
  }
 },
 "nbformat": 4,
 "nbformat_minor": 5
}

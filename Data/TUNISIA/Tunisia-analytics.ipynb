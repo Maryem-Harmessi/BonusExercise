{
 "cells": [
  {
   "cell_type": "code",
   "execution_count": null,
   "id": "40cc41e0",
   "metadata": {},
   "outputs": [],
   "source": [
    "import pandas as pd\n",
    "import matplotlib.pyplot as plt\n",
    "import seaborn as sns\n",
    "import numpy as np\n",
    "\n",
    "\n",
    "%matplotlib inline\n",
    "\n"
   ]
  },
  {
   "cell_type": "code",
   "execution_count": null,
   "id": "9158d7ba",
   "metadata": {},
   "outputs": [
    {
     "data": {
      "text/plain": [
       "3.0"
      ]
     },
     "execution_count": 13,
     "metadata": {},
     "output_type": "execute_result"
    }
   ],
   "source": [
    "import sys\n",
    "sys.path.append(r\"../../functions\")\n",
    "import calculations\n",
    "\n"
   ]
  },
  {
   "cell_type": "code",
   "execution_count": 16,
   "id": "061f0f92",
   "metadata": {},
   "outputs": [],
   "source": [
    "#Tunisia GDP\n",
    "tn_gdp = pd.read_csv(\"GDP-TUN-Annual.csv\")\n",
    "tn_gdp.columns = [\"date\", \"gdp_usd\"]\n",
    "# Convert 'date' to datetime format\n",
    "tn_gdp[\"date\"] = pd.to_datetime(tn_gdp[\"date\"])\n",
    "tn_gdp[\"gdp_usd\"] = tn_gdp[\"gdp_usd\"].round(0)\n",
    "\n",
    "#Tunisia Minimum Wage\n",
    "tn_wage=pd.read_excel(\"MinWage-TN-Annual.xlsx\")\n",
    "tn_wage.columns = [\"date\", \"wage_hourly_TND\"]"
   ]
  },
  {
   "cell_type": "code",
   "execution_count": 17,
   "id": "a966945f",
   "metadata": {},
   "outputs": [
    {
     "name": "stdout",
     "output_type": "stream",
     "text": [
      "TUNISIA Wage Data:\n"
     ]
    },
    {
     "data": {
      "text/html": [
       "<div>\n",
       "<style scoped>\n",
       "    .dataframe tbody tr th:only-of-type {\n",
       "        vertical-align: middle;\n",
       "    }\n",
       "\n",
       "    .dataframe tbody tr th {\n",
       "        vertical-align: top;\n",
       "    }\n",
       "\n",
       "    .dataframe thead th {\n",
       "        text-align: right;\n",
       "    }\n",
       "</style>\n",
       "<table border=\"1\" class=\"dataframe\">\n",
       "  <thead>\n",
       "    <tr style=\"text-align: right;\">\n",
       "      <th></th>\n",
       "      <th>date</th>\n",
       "      <th>wage_hourly_TND</th>\n",
       "    </tr>\n",
       "  </thead>\n",
       "  <tbody>\n",
       "    <tr>\n",
       "      <th>0</th>\n",
       "      <td>2024</td>\n",
       "      <td>2.6</td>\n",
       "    </tr>\n",
       "    <tr>\n",
       "      <th>1</th>\n",
       "      <td>2023</td>\n",
       "      <td>2.4</td>\n",
       "    </tr>\n",
       "    <tr>\n",
       "      <th>2</th>\n",
       "      <td>2022</td>\n",
       "      <td>2.2</td>\n",
       "    </tr>\n",
       "    <tr>\n",
       "      <th>3</th>\n",
       "      <td>2021</td>\n",
       "      <td>2.1</td>\n",
       "    </tr>\n",
       "    <tr>\n",
       "      <th>4</th>\n",
       "      <td>2020</td>\n",
       "      <td>2.1</td>\n",
       "    </tr>\n",
       "  </tbody>\n",
       "</table>\n",
       "</div>"
      ],
      "text/plain": [
       "   date  wage_hourly_TND\n",
       "0  2024              2.6\n",
       "1  2023              2.4\n",
       "2  2022              2.2\n",
       "3  2021              2.1\n",
       "4  2020              2.1"
      ]
     },
     "metadata": {},
     "output_type": "display_data"
    },
    {
     "name": "stdout",
     "output_type": "stream",
     "text": [
      "TUNISIA GDP Data:\n"
     ]
    },
    {
     "data": {
      "text/html": [
       "<div>\n",
       "<style scoped>\n",
       "    .dataframe tbody tr th:only-of-type {\n",
       "        vertical-align: middle;\n",
       "    }\n",
       "\n",
       "    .dataframe tbody tr th {\n",
       "        vertical-align: top;\n",
       "    }\n",
       "\n",
       "    .dataframe thead th {\n",
       "        text-align: right;\n",
       "    }\n",
       "</style>\n",
       "<table border=\"1\" class=\"dataframe\">\n",
       "  <thead>\n",
       "    <tr style=\"text-align: right;\">\n",
       "      <th></th>\n",
       "      <th>date</th>\n",
       "      <th>gdp_usd</th>\n",
       "    </tr>\n",
       "  </thead>\n",
       "  <tbody>\n",
       "    <tr>\n",
       "      <th>0</th>\n",
       "      <td>1961-01-01</td>\n",
       "      <td>8.661554e+08</td>\n",
       "    </tr>\n",
       "    <tr>\n",
       "      <th>1</th>\n",
       "      <td>1962-01-01</td>\n",
       "      <td>8.800277e+08</td>\n",
       "    </tr>\n",
       "    <tr>\n",
       "      <th>2</th>\n",
       "      <td>1963-01-01</td>\n",
       "      <td>1.026738e+09</td>\n",
       "    </tr>\n",
       "    <tr>\n",
       "      <th>3</th>\n",
       "      <td>1964-01-01</td>\n",
       "      <td>1.025867e+09</td>\n",
       "    </tr>\n",
       "    <tr>\n",
       "      <th>4</th>\n",
       "      <td>1965-01-01</td>\n",
       "      <td>9.910476e+08</td>\n",
       "    </tr>\n",
       "  </tbody>\n",
       "</table>\n",
       "</div>"
      ],
      "text/plain": [
       "        date       gdp_usd\n",
       "0 1961-01-01  8.661554e+08\n",
       "1 1962-01-01  8.800277e+08\n",
       "2 1963-01-01  1.026738e+09\n",
       "3 1964-01-01  1.025867e+09\n",
       "4 1965-01-01  9.910476e+08"
      ]
     },
     "metadata": {},
     "output_type": "display_data"
    }
   ],
   "source": [
    "print(\"TUNISIA Wage Data:\")\n",
    "display(tn_wage.head())\n",
    "\n",
    "print(\"TUNISIA GDP Data:\")\n",
    "display(tn_gdp.head())"
   ]
  },
  {
   "cell_type": "code",
   "execution_count": 3,
   "id": "c0f4f645",
   "metadata": {},
   "outputs": [
    {
     "ename": "NameError",
     "evalue": "name 'calculations' is not defined",
     "output_type": "error",
     "traceback": [
      "\u001b[31m---------------------------------------------------------------------------\u001b[39m",
      "\u001b[31mNameError\u001b[39m                                 Traceback (most recent call last)",
      "\u001b[36mCell\u001b[39m\u001b[36m \u001b[39m\u001b[32mIn[3]\u001b[39m\u001b[32m, line 1\u001b[39m\n\u001b[32m----> \u001b[39m\u001b[32m1\u001b[39m \u001b[38;5;28mprint\u001b[39m(\u001b[33m\"\u001b[39m\u001b[33mGDP Mean:\u001b[39m\u001b[33m\"\u001b[39m, \u001b[43mcalculations\u001b[49m.arithmeticMean(tn_gdp.gdp_usd))\n\u001b[32m      2\u001b[39m \u001b[38;5;28mprint\u001b[39m(\u001b[33m\"\u001b[39m\u001b[33mWage Mean:\u001b[39m\u001b[33m\"\u001b[39m, calculations.arithmeticMean(tn_wage.wage_hourly_TND))\n",
      "\u001b[31mNameError\u001b[39m: name 'calculations' is not defined"
     ]
    }
   ],
   "source": [
    "print(\"GDP Mean:\", calculations.arithmeticMean(tn_gdp.gdp_usd))\n",
    "print(\"Wage Mean:\", calculations.arithmeticMean(tn_wage.wage_hourly_TND))"
   ]
  }
 ],
 "metadata": {
  "kernelspec": {
   "display_name": ".venv",
   "language": "python",
   "name": "python3"
  },
  "language_info": {
   "codemirror_mode": {
    "name": "ipython",
    "version": 3
   },
   "file_extension": ".py",
   "mimetype": "text/x-python",
   "name": "python",
   "nbconvert_exporter": "python",
   "pygments_lexer": "ipython3",
   "version": "3.13.3"
  }
 },
 "nbformat": 4,
 "nbformat_minor": 5
}

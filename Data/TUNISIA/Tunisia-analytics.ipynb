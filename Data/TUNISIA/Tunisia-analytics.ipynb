{
 "cells": [
  {
   "cell_type": "code",
   "execution_count": 70,
   "id": "40cc41e0",
   "metadata": {},
   "outputs": [],
   "source": [
    "import pandas as pd\n",
    "import matplotlib.pyplot as plt\n",
    "import seaborn as sns\n",
    "import numpy as np\n",
    "\n",
    "\n",
    "%matplotlib inline\n",
    "\n",
    "import sys\n",
    "sys.path.append(r\"../../functions\")\n",
    "import calculations\n",
    "import plotting"
   ]
  },
  {
   "cell_type": "code",
   "execution_count": null,
   "id": "9158d7ba",
   "metadata": {},
   "outputs": [],
   "source": [
    "\n"
   ]
  },
  {
   "cell_type": "code",
   "execution_count": 14,
   "id": "061f0f92",
   "metadata": {},
   "outputs": [],
   "source": [
    "import openpyxl\n",
    "\n",
    "#Tunisia GDP\n",
    "tn_gdp = pd.read_csv(\"GDP-TUN-Annual.csv\")\n",
    "tn_gdp.columns = [\"date\", \"gdp_usd\"]\n",
    "# Convert 'date' to datetime format\n",
    "tn_gdp[\"date\"] = pd.to_datetime(tn_gdp[\"date\"])\n",
    "tn_gdp[\"gdp_usd\"] = tn_gdp[\"gdp_usd\"].round(0)\n",
    "\n",
    "#Tunisia Minimum Wage\n",
    "tn_wage=pd.read_excel(\"MinWage-TN-Annual.xlsx\")\n",
    "tn_wage.columns = [\"date\", \"wage_hourly_TND\"]\n",
    "tn_wage = tn_wage.sort_values(by=\"date\").reset_index(drop=True)\n",
    "tn_wage[\"date\"] = pd.to_datetime(tn_gdp[\"date\"])\n"
   ]
  },
  {
   "cell_type": "code",
   "execution_count": 55,
   "id": "29eb2bec",
   "metadata": {},
   "outputs": [],
   "source": [
    "conversion_rates=pd.read_csv(\"exchange-rate.csv\")\n",
    "new_rates = pd.read_csv(\"TND_to_USD_Exchange_Rates_2011_2024.csv\")\n",
    "\n",
    "conversion_rates.columns = [\"date\", \"conversionRate\"]\n",
    "conversion_rates['date'] = pd.to_datetime(conversion_rates['date'])\n",
    "conversion_rates = conversion_rates[conversion_rates['date'].dt.year >= 1990]\n",
    "\n",
    "\n",
    "new_rates.columns = [\"date\", \"conversionRate\"]\n",
    "new_rates['date'] = pd.to_datetime(new_rates['date'], format='%Y')\n",
    "\n",
    "full_rates = pd.concat([conversion_rates, new_rates], ignore_index=True)\n",
    "\n",
    "\n",
    "tn_wage_usd = pd.merge(tn_wage, full_rates, on='date', how='inner')\n",
    "tn_wage_usd['Wage_USD'] = tn_wage_usd['wage_hourly_TND'] *  tn_wage_usd['conversionRate']\n",
    "\n"
   ]
  },
  {
   "cell_type": "code",
   "execution_count": 51,
   "id": "a966945f",
   "metadata": {},
   "outputs": [
    {
     "name": "stdout",
     "output_type": "stream",
     "text": [
      "TUNISIA Wage Data:\n"
     ]
    },
    {
     "data": {
      "text/html": [
       "<div>\n",
       "<style scoped>\n",
       "    .dataframe tbody tr th:only-of-type {\n",
       "        vertical-align: middle;\n",
       "    }\n",
       "\n",
       "    .dataframe tbody tr th {\n",
       "        vertical-align: top;\n",
       "    }\n",
       "\n",
       "    .dataframe thead th {\n",
       "        text-align: right;\n",
       "    }\n",
       "</style>\n",
       "<table border=\"1\" class=\"dataframe\">\n",
       "  <thead>\n",
       "    <tr style=\"text-align: right;\">\n",
       "      <th></th>\n",
       "      <th>date</th>\n",
       "      <th>wage_hourly_TND</th>\n",
       "    </tr>\n",
       "  </thead>\n",
       "  <tbody>\n",
       "    <tr>\n",
       "      <th>0</th>\n",
       "      <td>1990-01-01</td>\n",
       "      <td>0.6</td>\n",
       "    </tr>\n",
       "    <tr>\n",
       "      <th>1</th>\n",
       "      <td>1991-01-01</td>\n",
       "      <td>0.6</td>\n",
       "    </tr>\n",
       "    <tr>\n",
       "      <th>2</th>\n",
       "      <td>1992-01-01</td>\n",
       "      <td>0.7</td>\n",
       "    </tr>\n",
       "    <tr>\n",
       "      <th>3</th>\n",
       "      <td>1993-01-01</td>\n",
       "      <td>0.7</td>\n",
       "    </tr>\n",
       "    <tr>\n",
       "      <th>4</th>\n",
       "      <td>1994-01-01</td>\n",
       "      <td>0.7</td>\n",
       "    </tr>\n",
       "  </tbody>\n",
       "</table>\n",
       "</div>"
      ],
      "text/plain": [
       "        date  wage_hourly_TND\n",
       "0 1990-01-01              0.6\n",
       "1 1991-01-01              0.6\n",
       "2 1992-01-01              0.7\n",
       "3 1993-01-01              0.7\n",
       "4 1994-01-01              0.7"
      ]
     },
     "metadata": {},
     "output_type": "display_data"
    },
    {
     "name": "stdout",
     "output_type": "stream",
     "text": [
      "TUNISIA GDP Data:\n"
     ]
    },
    {
     "data": {
      "text/html": [
       "<div>\n",
       "<style scoped>\n",
       "    .dataframe tbody tr th:only-of-type {\n",
       "        vertical-align: middle;\n",
       "    }\n",
       "\n",
       "    .dataframe tbody tr th {\n",
       "        vertical-align: top;\n",
       "    }\n",
       "\n",
       "    .dataframe thead th {\n",
       "        text-align: right;\n",
       "    }\n",
       "</style>\n",
       "<table border=\"1\" class=\"dataframe\">\n",
       "  <thead>\n",
       "    <tr style=\"text-align: right;\">\n",
       "      <th></th>\n",
       "      <th>date</th>\n",
       "      <th>gdp_usd</th>\n",
       "    </tr>\n",
       "  </thead>\n",
       "  <tbody>\n",
       "    <tr>\n",
       "      <th>0</th>\n",
       "      <td>1990-01-01</td>\n",
       "      <td>1.229057e+10</td>\n",
       "    </tr>\n",
       "    <tr>\n",
       "      <th>1</th>\n",
       "      <td>1991-01-01</td>\n",
       "      <td>1.307478e+10</td>\n",
       "    </tr>\n",
       "    <tr>\n",
       "      <th>2</th>\n",
       "      <td>1992-01-01</td>\n",
       "      <td>1.549671e+10</td>\n",
       "    </tr>\n",
       "    <tr>\n",
       "      <th>3</th>\n",
       "      <td>1993-01-01</td>\n",
       "      <td>1.460834e+10</td>\n",
       "    </tr>\n",
       "    <tr>\n",
       "      <th>4</th>\n",
       "      <td>1994-01-01</td>\n",
       "      <td>1.563317e+10</td>\n",
       "    </tr>\n",
       "  </tbody>\n",
       "</table>\n",
       "</div>"
      ],
      "text/plain": [
       "        date       gdp_usd\n",
       "0 1990-01-01  1.229057e+10\n",
       "1 1991-01-01  1.307478e+10\n",
       "2 1992-01-01  1.549671e+10\n",
       "3 1993-01-01  1.460834e+10\n",
       "4 1994-01-01  1.563317e+10"
      ]
     },
     "metadata": {},
     "output_type": "display_data"
    },
    {
     "name": "stdout",
     "output_type": "stream",
     "text": [
      "exchange rates\n"
     ]
    },
    {
     "data": {
      "text/html": [
       "<div>\n",
       "<style scoped>\n",
       "    .dataframe tbody tr th:only-of-type {\n",
       "        vertical-align: middle;\n",
       "    }\n",
       "\n",
       "    .dataframe tbody tr th {\n",
       "        vertical-align: top;\n",
       "    }\n",
       "\n",
       "    .dataframe thead th {\n",
       "        text-align: right;\n",
       "    }\n",
       "</style>\n",
       "<table border=\"1\" class=\"dataframe\">\n",
       "  <thead>\n",
       "    <tr style=\"text-align: right;\">\n",
       "      <th></th>\n",
       "      <th>date</th>\n",
       "      <th>conversionRate</th>\n",
       "    </tr>\n",
       "  </thead>\n",
       "  <tbody>\n",
       "    <tr>\n",
       "      <th>40</th>\n",
       "      <td>1990-01-01</td>\n",
       "      <td>0.878333</td>\n",
       "    </tr>\n",
       "    <tr>\n",
       "      <th>41</th>\n",
       "      <td>1991-01-01</td>\n",
       "      <td>0.924621</td>\n",
       "    </tr>\n",
       "    <tr>\n",
       "      <th>42</th>\n",
       "      <td>1992-01-01</td>\n",
       "      <td>0.884433</td>\n",
       "    </tr>\n",
       "    <tr>\n",
       "      <th>43</th>\n",
       "      <td>1993-01-01</td>\n",
       "      <td>1.003742</td>\n",
       "    </tr>\n",
       "    <tr>\n",
       "      <th>44</th>\n",
       "      <td>1994-01-01</td>\n",
       "      <td>1.011554</td>\n",
       "    </tr>\n",
       "  </tbody>\n",
       "</table>\n",
       "</div>"
      ],
      "text/plain": [
       "         date  conversionRate\n",
       "40 1990-01-01        0.878333\n",
       "41 1991-01-01        0.924621\n",
       "42 1992-01-01        0.884433\n",
       "43 1993-01-01        1.003742\n",
       "44 1994-01-01        1.011554"
      ]
     },
     "metadata": {},
     "output_type": "display_data"
    },
    {
     "name": "stdout",
     "output_type": "stream",
     "text": [
      "exchange rates\n"
     ]
    },
    {
     "data": {
      "text/html": [
       "<div>\n",
       "<style scoped>\n",
       "    .dataframe tbody tr th:only-of-type {\n",
       "        vertical-align: middle;\n",
       "    }\n",
       "\n",
       "    .dataframe tbody tr th {\n",
       "        vertical-align: top;\n",
       "    }\n",
       "\n",
       "    .dataframe thead th {\n",
       "        text-align: right;\n",
       "    }\n",
       "</style>\n",
       "<table border=\"1\" class=\"dataframe\">\n",
       "  <thead>\n",
       "    <tr style=\"text-align: right;\">\n",
       "      <th></th>\n",
       "      <th>date</th>\n",
       "      <th>conversionRate</th>\n",
       "    </tr>\n",
       "  </thead>\n",
       "  <tbody>\n",
       "    <tr>\n",
       "      <th>0</th>\n",
       "      <td>2011-01-01</td>\n",
       "      <td>0.7109</td>\n",
       "    </tr>\n",
       "    <tr>\n",
       "      <th>1</th>\n",
       "      <td>2012-01-01</td>\n",
       "      <td>0.6337</td>\n",
       "    </tr>\n",
       "    <tr>\n",
       "      <th>2</th>\n",
       "      <td>2013-01-01</td>\n",
       "      <td>0.6073</td>\n",
       "    </tr>\n",
       "    <tr>\n",
       "      <th>3</th>\n",
       "      <td>2014-01-01</td>\n",
       "      <td>0.5742</td>\n",
       "    </tr>\n",
       "    <tr>\n",
       "      <th>4</th>\n",
       "      <td>2015-01-01</td>\n",
       "      <td>0.5211</td>\n",
       "    </tr>\n",
       "  </tbody>\n",
       "</table>\n",
       "</div>"
      ],
      "text/plain": [
       "        date  conversionRate\n",
       "0 2011-01-01          0.7109\n",
       "1 2012-01-01          0.6337\n",
       "2 2013-01-01          0.6073\n",
       "3 2014-01-01          0.5742\n",
       "4 2015-01-01          0.5211"
      ]
     },
     "metadata": {},
     "output_type": "display_data"
    },
    {
     "data": {
      "text/html": [
       "<div>\n",
       "<style scoped>\n",
       "    .dataframe tbody tr th:only-of-type {\n",
       "        vertical-align: middle;\n",
       "    }\n",
       "\n",
       "    .dataframe tbody tr th {\n",
       "        vertical-align: top;\n",
       "    }\n",
       "\n",
       "    .dataframe thead th {\n",
       "        text-align: right;\n",
       "    }\n",
       "</style>\n",
       "<table border=\"1\" class=\"dataframe\">\n",
       "  <thead>\n",
       "    <tr style=\"text-align: right;\">\n",
       "      <th></th>\n",
       "      <th>date</th>\n",
       "      <th>conversionRate</th>\n",
       "    </tr>\n",
       "  </thead>\n",
       "  <tbody>\n",
       "    <tr>\n",
       "      <th>0</th>\n",
       "      <td>1990-01-01</td>\n",
       "      <td>0.878333</td>\n",
       "    </tr>\n",
       "    <tr>\n",
       "      <th>1</th>\n",
       "      <td>1991-01-01</td>\n",
       "      <td>0.924621</td>\n",
       "    </tr>\n",
       "    <tr>\n",
       "      <th>2</th>\n",
       "      <td>1992-01-01</td>\n",
       "      <td>0.884433</td>\n",
       "    </tr>\n",
       "    <tr>\n",
       "      <th>3</th>\n",
       "      <td>1993-01-01</td>\n",
       "      <td>1.003742</td>\n",
       "    </tr>\n",
       "    <tr>\n",
       "      <th>4</th>\n",
       "      <td>1994-01-01</td>\n",
       "      <td>1.011554</td>\n",
       "    </tr>\n",
       "  </tbody>\n",
       "</table>\n",
       "</div>"
      ],
      "text/plain": [
       "        date  conversionRate\n",
       "0 1990-01-01        0.878333\n",
       "1 1991-01-01        0.924621\n",
       "2 1992-01-01        0.884433\n",
       "3 1993-01-01        1.003742\n",
       "4 1994-01-01        1.011554"
      ]
     },
     "metadata": {},
     "output_type": "display_data"
    }
   ],
   "source": [
    "print(\"TUNISIA Wage Data:\")\n",
    "display(tn_wage.head())\n",
    "\n",
    "print(\"TUNISIA GDP Data:\")\n",
    "display(tn_gdp.head())\n",
    "\n",
    "print(\"exchange rates\")\n",
    "display(conversion_rates.head())\n",
    "\n",
    "print(\"exchange rates\")\n",
    "display(new_rates.head())\n",
    "\n",
    "display(full_rates.head())"
   ]
  },
  {
   "cell_type": "code",
   "execution_count": null,
   "id": "c0f4f645",
   "metadata": {},
   "outputs": [
    {
     "name": "stdout",
     "output_type": "stream",
     "text": [
      "34\n",
      "Mean = 33332906299.06\n",
      "Variance = 1.6405692957276927e+20\n",
      "Standard Deviation = 12808471008.39\n",
      "Quartiles = {'Q1': 21473528161.0, 'Q2': 36646009234.0, 'Q3': 44859439902.0}\n"
     ]
    }
   ],
   "source": [
    "\n",
    "\n",
    "Mean_TNGDP = calculations.arithmeticMean(tn_gdp.gdp_usd)\n",
    "variance_TNGDP = calculations.variance(tn_gdp.gdp_usd)\n",
    "standarddeviation_TNGDP = calculations.standardDeviation(tn_gdp.gdp_usd)\n",
    "quartiles_TNGDP = calculations.quartiles(tn_gdp.gdp_usd)\n",
    "\n",
    "#print(annual_avg)\n",
    "print(len(tn_gdp.gdp_usd))\n",
    "print(f\"Mean = {round(Mean_TNGDP, 2)}\")\n",
    "print(f\"Variance = {round(variance_TNGDP,2)}\")\n",
    "print(f\"Standard Deviation = {round(standarddeviation_TNGDP, 2)}\")\n",
    "print(f\"Quartiles = {quartiles_TNGDP}\")\n"
   ]
  },
  {
   "cell_type": "code",
   "execution_count": null,
   "id": "d8e3642b",
   "metadata": {},
   "outputs": [],
   "source": []
  },
  {
   "cell_type": "code",
   "execution_count": null,
   "id": "960136bf",
   "metadata": {},
   "outputs": [
    {
     "data": {
      "image/png": "[encoded data removed]",
      "text/plain": [
       "<Figure size 600x400 with 1 Axes>"
      ]
     },
     "metadata": {},
     "output_type": "display_data"
    }
   ],
   "source": [
    "lot_boxplot_TNGDP = plotting.plot_boxplot(tn_gdp.gdp_usd, title=\"Box Plot\", ylabel=\"Values\", showfliers=True, color=\"lightgreen\")"
   ]
  },
  {
   "cell_type": "code",
   "execution_count": null,
   "id": "35b6ab02",
   "metadata": {},
   "outputs": [],
   "source": [
    "Mean_TNWAge = calculations.arithmeticMean(tn_gdp.gdp_usd)\n",
    "variance_TNGDP = calculations.variance(tn_gdp.gdp_usd)\n",
    "standarddeviation_TNGDP = calculations.standardDeviation(tn_gdp.gdp_usd)\n",
    "quartiles_TNGDP = calculations.quartiles(tn_gdp.gdp_usd)\n",
    "\n",
    "#print(annual_avg)\n",
    "print(len(tn_gdp.gdp_usd))\n",
    "print(f\"Mean = {round(Mean_TNGDP, 2)}\")\n",
    "print(f\"Variance = {round(variance_TNGDP,2)}\")\n",
    "print(f\"Standard Deviation = {round(standarddeviation_TNGDP, 2)}\")\n",
    "print(f\"Quartiles = {quartiles_TNGDP}\")\n"
   ]
  }
 ],
 "metadata": {
  "kernelspec": {
   "display_name": "Python 3",
   "language": "python",
   "name": "python3"
  },
  "language_info": {
   "codemirror_mode": {
    "name": "ipython",
    "version": 3
   },
   "file_extension": ".py",
   "mimetype": "text/x-python",
   "name": "python",
   "nbconvert_exporter": "python",
   "pygments_lexer": "ipython3",
   "version": "3.13.5"
  }
 },
 "nbformat": 4,
 "nbformat_minor": 5
}
